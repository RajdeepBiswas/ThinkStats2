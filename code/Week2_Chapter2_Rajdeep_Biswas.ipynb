{
 "cells": [
  {
   "cell_type": "code",
   "execution_count": null,
   "metadata": {},
   "outputs": [],
   "source": [
    "#whether first babies arrive late\n",
    "#Using the variable totalwgt_lb, investigate whether first babies are lighter or heavier than others…)"
   ]
  },
  {
   "cell_type": "code",
   "execution_count": 4,
   "metadata": {},
   "outputs": [],
   "source": [
    "from __future__ import print_function, division\n",
    "\n",
    "%matplotlib inline\n",
    "\n",
    "import numpy as np\n",
    "\n",
    "import nsfg\n",
    "import first\n",
    "import thinkstats2\n",
    "import thinkplot"
   ]
  },
  {
   "cell_type": "code",
   "execution_count": 2,
   "metadata": {},
   "outputs": [],
   "source": [
    "#load the data from the pregnancy file and select the records for live births.\n",
    "preg = nsfg.ReadFemPreg()\n",
    "live = preg[preg.outcome == 1]   "
   ]
  },
  {
   "cell_type": "code",
   "execution_count": 5,
   "metadata": {},
   "outputs": [
    {
     "data": {
      "image/png": "[encoded data removed]",
      "text/plain": [
       "<Figure size 432x288 with 1 Axes>"
      ]
     },
     "metadata": {
      "needs_background": "light"
     },
     "output_type": "display_data"
    }
   ],
   "source": [
    "#plot the histogram of pregnancy lengths (column prglngth).\n",
    "hist = thinkstats2.Hist(live.prglngth, label='prglngth')\n",
    "thinkplot.Hist(hist)\n",
    "thinkplot.Config(xlabel='weeks', ylabel='Count')"
   ]
  },
  {
   "cell_type": "code",
   "execution_count": 17,
   "metadata": {},
   "outputs": [
    {
     "name": "stdout",
     "output_type": "stream",
     "text": [
      "50 2\n",
      "48 7\n",
      "47 1\n",
      "46 1\n",
      "45 10\n",
      "44 46\n",
      "43 148\n",
      "42 328\n",
      "41 587\n",
      "40 1116\n",
      "39 4693\n",
      "38 607\n",
      "37 455\n",
      "36 321\n",
      "35 311\n",
      "34 60\n",
      "33 49\n",
      "32 115\n",
      "31 27\n",
      "30 138\n",
      "29 21\n",
      "28 32\n",
      "27 3\n",
      "26 35\n",
      "25 3\n",
      "24 13\n",
      "23 1\n",
      "22 7\n",
      "21 2\n",
      "20 1\n",
      "19 1\n",
      "18 1\n",
      "17 2\n",
      "13 1\n",
      "9 1\n",
      "4 1\n",
      "0 1\n"
     ]
    }
   ],
   "source": [
    "#Display all pregnancy lengths and their frequency\n",
    "#As evident from the histogram above the values are concentrated between 35 and 42 weeks\n",
    "for weeks, freq in hist.Largest(100):\n",
    "    print(weeks, freq)"
   ]
  },
  {
   "cell_type": "code",
   "execution_count": 18,
   "metadata": {},
   "outputs": [],
   "source": [
    "#From live births, we can select first babies and others using `birthord`, \n",
    "#then compute histograms of pregnancy length for the two groups.\n",
    "firsts = live[live.birthord == 1]\n",
    "others = live[live.birthord != 1]\n",
    "\n",
    "first_hist = thinkstats2.Hist(firsts.prglngth, label='first')\n",
    "other_hist = thinkstats2.Hist(others.prglngth, label='other')"
   ]
  },
  {
   "cell_type": "code",
   "execution_count": 19,
   "metadata": {},
   "outputs": [
    {
     "data": {
      "image/png": "[encoded data removed]",
      "text/plain": [
       "<Figure size 432x288 with 1 Axes>"
      ]
     },
     "metadata": {
      "needs_background": "light"
     },
     "output_type": "display_data"
    }
   ],
   "source": [
    "#We can use width and align to plot two histograms side-by-side.\n",
    "width = 0.45\n",
    "thinkplot.PrePlot(2)\n",
    "thinkplot.Hist(first_hist, align='right', width=width)\n",
    "thinkplot.Hist(other_hist, align='left', width=width)\n",
    "thinkplot.Config(xlabel='weeks', ylabel='Count', xlim=[27, 46])"
   ]
  },
  {
   "cell_type": "code",
   "execution_count": null,
   "metadata": {},
   "outputs": [],
   "source": [
    "#From the histogram both the distributions forms a similar pattern and we \n",
    "#cannot make this statement that the first baboes arrives late. Rather it could be a fair argument that the first babies\n",
    "#gets delivered following a similar pattern compared to other deliveries\n",
    "#In this example, there are fewer 'first babies' than 'others', so some\n",
    "#of the apparent differences in the histograms are due to sample sizes."
   ]
  },
  {
   "cell_type": "code",
   "execution_count": 20,
   "metadata": {},
   "outputs": [
    {
     "name": "stdout",
     "output_type": "stream",
     "text": [
      "Population statitics mean: %f, var: %f, std %f (38.56055968517709, 7.302662067826851, 2.702343810070593)\n"
     ]
    }
   ],
   "source": [
    "#Now lets us look at the summary statitics for pregnency lengths of the live births\n",
    "mean = live.prglngth.mean()\n",
    "var = live.prglngth.var()\n",
    "std = live.prglngth.std()\n",
    "print (\"Live births statitics mean: %f, var: %f, std %f\",(mean,var,std))"
   ]
  },
  {
   "cell_type": "code",
   "execution_count": 21,
   "metadata": {},
   "outputs": [
    {
     "name": "stdout",
     "output_type": "stream",
     "text": [
      "first babies statitics mean: %f, var: %f, std %f (38.60095173351461, 7.794713509229059, 2.7919014146686947)\n"
     ]
    }
   ],
   "source": [
    "#summary statitics for first babies\n",
    "mean = firsts.prglngth.mean()\n",
    "var = firsts.prglngth.var()\n",
    "std = firsts.prglngth.std()\n",
    "print (\"first babies statitics mean: %f, var: %f, std %f\",(mean,var,std))"
   ]
  },
  {
   "cell_type": "code",
   "execution_count": 22,
   "metadata": {},
   "outputs": [
    {
     "name": "stdout",
     "output_type": "stream",
     "text": [
      "others babies statitics mean: %f, var: %f, std %f (38.52291446673706, 6.842683519298573, 2.615852350439255)\n"
     ]
    }
   ],
   "source": [
    "#summary statitics for other babies\n",
    "mean = others.prglngth.mean()\n",
    "var = others.prglngth.var()\n",
    "std = others.prglngth.std()\n",
    "print (\"others babies statitics mean: %f, var: %f, std %f\",(mean,var,std))"
   ]
  },
  {
   "cell_type": "code",
   "execution_count": 25,
   "metadata": {},
   "outputs": [
    {
     "data": {
      "text/plain": [
       "0.07803726677754952"
      ]
     },
     "execution_count": 25,
     "metadata": {},
     "output_type": "execute_result"
    }
   ],
   "source": [
    "firsts.prglngth.mean() - others.prglngth.mean()"
   ]
  },
  {
   "cell_type": "code",
   "execution_count": 23,
   "metadata": {},
   "outputs": [],
   "source": [
    "def CohenEffectSize(group1, group2):\n",
    "    \"\"\"Computes Cohen's effect size for two groups.\n",
    "    \n",
    "    group1: Series or DataFrame\n",
    "    group2: Series or DataFrame\n",
    "    \n",
    "    returns: float if the arguments are Series;\n",
    "             Series if the arguments are DataFrames\n",
    "    \"\"\"\n",
    "    diff = group1.mean() - group2.mean()\n",
    "\n",
    "    var1 = group1.var()\n",
    "    var2 = group2.var()\n",
    "    n1, n2 = len(group1), len(group2)\n",
    "\n",
    "    pooled_var = (n1 * var1 + n2 * var2) / (n1 + n2)\n",
    "    d = diff / np.sqrt(pooled_var)\n",
    "    return d"
   ]
  },
  {
   "cell_type": "code",
   "execution_count": 24,
   "metadata": {},
   "outputs": [
    {
     "data": {
      "text/plain": [
       "0.028879044654449883"
      ]
     },
     "execution_count": 24,
     "metadata": {},
     "output_type": "execute_result"
    }
   ],
   "source": [
    "#Compute the Cohen effect size for the difference in pregnancy length for first babies and others.\n",
    "CohenEffectSize(firsts.prglngth, others.prglngth)"
   ]
  },
  {
   "cell_type": "code",
   "execution_count": null,
   "metadata": {},
   "outputs": [],
   "source": [
    "#Cohen suggested that d=0.2 be considered a 'small' effect size, 0.5 represents a 'medium' \n",
    "#effect size and 0.8 a 'large' effect size. This means that if two groups' means don't differ by 0.2\n",
    "#standard deviations or more, the difference is trivial, even if it is statistically signficant.\n",
    "#Ref: https://people.bath.ac.uk/pssiw/stats2/page2/page14/page14.html\n",
    "#Mean pregnancy length for first babies is 38.601; for other babies it is 38.523.\n",
    "#The difference is 0.078 weeks, which works out to 13 hours. As a fraction of\n",
    "#the typical pregnancy length i.e 42 weeks, this difference is about 0.2%.\n",
    "#The cohen's effect size is 0.029\n",
    "#If we assume this estimate is accurate, such a difference would have no practical consequences."
   ]
  },
  {
   "cell_type": "code",
   "execution_count": 26,
   "metadata": {},
   "outputs": [],
   "source": [
    "#Using the variable totalwgt_lb, investigate whether first babies are lighter or heavier than others…)"
   ]
  },
  {
   "cell_type": "code",
   "execution_count": 30,
   "metadata": {},
   "outputs": [
    {
     "name": "stdout",
     "output_type": "stream",
     "text": [
      "Live births totalwgt_lb statitics mean: %f, var: %f, std %f (7.265628457623368, 1.9832904288326532, 1.4082934455690168)\n"
     ]
    }
   ],
   "source": [
    "#Now lets us look at the summary statitics for the totalwgt_lb of live births\n",
    "mean = live.totalwgt_lb.mean()\n",
    "var = live.totalwgt_lb.var()\n",
    "std = live.totalwgt_lb.std()\n",
    "print (\"Live births totalwgt_lb statitics mean: %f, var: %f, std %f\",(mean,var,std))"
   ]
  },
  {
   "cell_type": "code",
   "execution_count": 31,
   "metadata": {},
   "outputs": [
    {
     "name": "stdout",
     "output_type": "stream",
     "text": [
      "first babies totalwgt_lb statitics mean: %f, var: %f, std %f (7.201094430437772, 2.0180273009157768, 1.4205728777207374)\n"
     ]
    }
   ],
   "source": [
    "#summary statitics for totalwgt_lb of first babies\n",
    "mean = firsts.totalwgt_lb.mean()\n",
    "var = firsts.totalwgt_lb.var()\n",
    "std = firsts.totalwgt_lb.std()\n",
    "print (\"first babies totalwgt_lb statitics mean: %f, var: %f, std %f\",(mean,var,std))"
   ]
  },
  {
   "cell_type": "code",
   "execution_count": 32,
   "metadata": {},
   "outputs": [
    {
     "name": "stdout",
     "output_type": "stream",
     "text": [
      "others totalwgt_lb statitics mean: %f, var: %f, std %f (7.325855614973262, 1.9437810258964572, 1.3941954762143138)\n"
     ]
    }
   ],
   "source": [
    "#summary statitics for totalwgt_lb of other babies\n",
    "mean = others.totalwgt_lb.mean()\n",
    "var = others.totalwgt_lb.var()\n",
    "std = others.totalwgt_lb.std()\n",
    "print (\"others totalwgt_lb statitics mean: %f, var: %f, std %f\",(mean,var,std))"
   ]
  },
  {
   "cell_type": "code",
   "execution_count": 33,
   "metadata": {},
   "outputs": [
    {
     "data": {
      "text/plain": [
       "-0.088672927072602"
      ]
     },
     "execution_count": 33,
     "metadata": {},
     "output_type": "execute_result"
    }
   ],
   "source": [
    "#Compute the Cohen effect size for the difference in total weight in lbs for first babies and others.\n",
    "CohenEffectSize(firsts.totalwgt_lb, others.totalwgt_lb)"
   ]
  },
  {
   "cell_type": "code",
   "execution_count": 35,
   "metadata": {},
   "outputs": [
    {
     "data": {
      "text/plain": [
       "-0.12476118453549034"
      ]
     },
     "execution_count": 35,
     "metadata": {},
     "output_type": "execute_result"
    }
   ],
   "source": [
    "firsts.totalwgt_lb.mean() - others.totalwgt_lb.mean()"
   ]
  },
  {
   "cell_type": "code",
   "execution_count": 37,
   "metadata": {},
   "outputs": [
    {
     "data": {
      "text/plain": [
       "1.7171423678372415"
      ]
     },
     "execution_count": 37,
     "metadata": {},
     "output_type": "execute_result"
    }
   ],
   "source": [
    "(abs(firsts.totalwgt_lb.mean() - others.totalwgt_lb.mean())/live.totalwgt_lb.mean())*100"
   ]
  },
  {
   "cell_type": "code",
   "execution_count": null,
   "metadata": {},
   "outputs": [],
   "source": [
    "#Cohen suggested that d=0.2 be considered a 'small' effect size, 0.5 represents a 'medium' \n",
    "#effect size and 0.8 a 'large' effect size. This means that if two groups' means don't differ by 0.2\n",
    "#standard deviations or more, the difference is trivial, even if it is statistically signficant.\n",
    "#Ref: https://people.bath.ac.uk/pssiw/stats2/page2/page14/page14.html\n",
    "#Mean  total weight in lbs for first babies is 7.201; for other babies it is 7.326.\n",
    "#The difference is 0.125 lbs,. As a fraction of\n",
    "#the total weight in lbs for combined population this difference is about .125/7.266 = 1.72%\n",
    "#The cohen's effect size is 0.089\n",
    "#If we assume this estimate is accurate, such a difference would have no practical consequences."
   ]
  }
 ],
 "metadata": {
  "kernelspec": {
   "display_name": "Python 3",
   "language": "python",
   "name": "python3"
  },
  "language_info": {
   "codemirror_mode": {
    "name": "ipython",
    "version": 3
   },
   "file_extension": ".py",
   "mimetype": "text/x-python",
   "name": "python",
   "nbconvert_exporter": "python",
   "pygments_lexer": "ipython3",
   "version": "3.7.6"
  }
 },
 "nbformat": 4,
 "nbformat_minor": 4
}
